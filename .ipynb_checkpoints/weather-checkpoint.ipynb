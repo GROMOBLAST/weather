{
 "cells": [
  {
   "cell_type": "markdown",
   "id": "f9822a6a",
   "metadata": {},
   "source": [
    "# Task_weather"
   ]
  },
  {
   "cell_type": "markdown",
   "id": "5533c121",
   "metadata": {},
   "source": [
    "1. День, с минимальной разницей \"ощущаемой\" и фактической температуры ночью (с указанием разницы в градусах Цельсия) \n",
    "2. Максимальную продолжительностью светового дня (считать, как разницу между временем заката и рассвета) за ближайшие 5 дней (включая текущий), с указанием даты."
   ]
  },
  {
   "cell_type": "code",
   "execution_count": 1,
   "id": "b1676845",
   "metadata": {},
   "outputs": [],
   "source": [
    "import requests as req\n",
    "import pandas as pd\n",
    "import numpy as np\n",
    "import re\n",
    "import matplotlib.pyplot as plt\n",
    "import bisect\n",
    "from datetime import datetime"
   ]
  },
  {
   "cell_type": "markdown",
   "id": "04fc6e06",
   "metadata": {},
   "source": [
    "Для поиска id города, воспользовался ссылкой -> http://api.openweathermap.org/data/2.5/find?q=Moscow,RU&type=like&APPID=83d81f84fdfd4ca7ec7056939d3e867a, где q = Moscow,RU\n",
    "\n",
    "Очень важно было указать 'RU', иначе на выходе я получал список городов названия которых равны \"Moscow\", потому что Москва в мире не одна. Также после регистрации на сайт openweathermap.org перешёл в профиль и нашёл свой API key, который также необходим для корректной работы. В моём случае мой API key = 83d81f84fdfd4ca7ec7056939d3e867a  "
   ]
  },
  {
   "cell_type": "code",
   "execution_count": 2,
   "id": "aad78a9f",
   "metadata": {},
   "outputs": [],
   "source": [
    "city = 'Moscow,RU'"
   ]
  },
  {
   "cell_type": "code",
   "execution_count": 3,
   "id": "7e4cf6c3",
   "metadata": {},
   "outputs": [],
   "source": [
    "city_id = 0"
   ]
  },
  {
   "cell_type": "code",
   "execution_count": 4,
   "id": "b777b081",
   "metadata": {},
   "outputs": [],
   "source": [
    "appid = '83d81f84fdfd4ca7ec7056939d3e867a'"
   ]
  },
  {
   "cell_type": "code",
   "execution_count": 5,
   "id": "a4384197",
   "metadata": {},
   "outputs": [
    {
     "name": "stdout",
     "output_type": "stream",
     "text": [
      "city: ['Moscow (RU)', 'Moscow (RU)']\n",
      "city_id= 524901\n"
     ]
    }
   ],
   "source": [
    "try:\n",
    "    res = req.get(\"http://api.openweathermap.org/data/2.5/find\",\n",
    "                 params={'q': city, 'type': 'like', 'units': 'metric', 'APPID': appid})\n",
    "    data = res.json()\n",
    "    cities = ['{} ({})'.format(d['name'],d['sys']['country'])\n",
    "             for d in data['list']]\n",
    "    print(\"city:\", cities)\n",
    "    city_id = data['list'][0]['id']\n",
    "    print('city_id=', city_id)\n",
    "except Exception as e:\n",
    "    print(\"Exception (find):\", e)\n",
    "    pass"
   ]
  },
  {
   "cell_type": "code",
   "execution_count": 6,
   "id": "1175775a",
   "metadata": {},
   "outputs": [
    {
     "name": "stdout",
     "output_type": "stream",
     "text": [
      "city: Москва\n",
      "conditions: небольшой снег\n",
      "temp: -1.79\n",
      "temp_min: -3.74\n",
      "temp_max: -0.87\n",
      "feels_like: -1.79\n"
     ]
    }
   ],
   "source": [
    "try:\n",
    "    res = req.get(\"http://api.openweathermap.org/data/2.5/weather\",\n",
    "                 params={'id': city_id, 'units': 'metric', 'lang': 'ru', 'APPID': appid})\n",
    "    data = res.json()\n",
    "    print(\"city:\", data['name'])\n",
    "    print(\"conditions:\", data['weather'][0]['description'])\n",
    "    print(\"temp:\", data['main']['temp'])\n",
    "    print(\"temp_min:\", data['main']['temp_min'])\n",
    "    print(\"temp_max:\", data['main']['temp_max'])\n",
    "    print(\"feels_like:\", data['main']['feels_like'])\n",
    "except Exception as e:\n",
    "    print(\"Exception (weather):\", e)\n",
    "    pass"
   ]
  },
  {
   "cell_type": "code",
   "execution_count": 7,
   "id": "dee53607",
   "metadata": {},
   "outputs": [
    {
     "name": "stdout",
     "output_type": "stream",
     "text": [
      "{'coord': {'lon': 37.6156, 'lat': 55.7522}, 'weather': [{'id': 600, 'main': 'Snow', 'description': 'небольшой снег', 'icon': '13n'}], 'base': 'stations', 'main': {'temp': -1.79, 'feels_like': -1.79, 'temp_min': -3.74, 'temp_max': -0.87, 'pressure': 1026, 'humidity': 92, 'sea_level': 1026, 'grnd_level': 1007}, 'visibility': 133, 'wind': {'speed': 0.88, 'deg': 181, 'gust': 1.29}, 'snow': {'1h': 0.45}, 'clouds': {'all': 100}, 'dt': 1639420956, 'sys': {'type': 2, 'id': 2018597, 'country': 'RU', 'sunrise': 1639374680, 'sunset': 1639400178}, 'timezone': 10800, 'id': 524901, 'name': 'Москва', 'cod': 200}\n"
     ]
    }
   ],
   "source": [
    "print(res.json())"
   ]
  },
  {
   "cell_type": "markdown",
   "id": "8c70b9b5",
   "metadata": {},
   "source": [
    "День, с минимальной разницей \"ощущаемой\" и фактической температуры ночью (с указанием разницы в градусах Цельсия)"
   ]
  },
  {
   "cell_type": "code",
   "execution_count": 8,
   "id": "2ae5cea6",
   "metadata": {},
   "outputs": [],
   "source": [
    "try:\n",
    "    res = req.get(\"http://api.openweathermap.org/data/2.5/forecast\",\n",
    "                       params={'id': city_id, 'units': 'metric', 'lang': 'ru', 'APPID': appid})\n",
    "    data = res.json()\n",
    "    data_time = []\n",
    "    data_feels_like = []\n",
    "    data_night = []\n",
    "    for i in data['list']:\n",
    "        data_time.append(i['dt_txt'])\n",
    "        data_feels_like.append(i['main']['feels_like'])\n",
    "        if re.split(':| ', i['dt_txt'])[-3] in ('00', '03'): # ночь это промежуток времени с 00:00 - 03:00\n",
    "            data_night.append(i['main']['temp'])\n",
    "        else: \n",
    "            data_night.append(0)\n",
    "except Exception as e:\n",
    "    print(\"Exception (forecast):\", e)\n",
    "    pass"
   ]
  },
  {
   "cell_type": "code",
   "execution_count": 9,
   "id": "3a8d8fd3",
   "metadata": {},
   "outputs": [
    {
     "data": {
      "text/html": [
       "<div>\n",
       "<style scoped>\n",
       "    .dataframe tbody tr th:only-of-type {\n",
       "        vertical-align: middle;\n",
       "    }\n",
       "\n",
       "    .dataframe tbody tr th {\n",
       "        vertical-align: top;\n",
       "    }\n",
       "\n",
       "    .dataframe thead th {\n",
       "        text-align: right;\n",
       "    }\n",
       "</style>\n",
       "<table border=\"1\" class=\"dataframe\">\n",
       "  <thead>\n",
       "    <tr style=\"text-align: right;\">\n",
       "      <th></th>\n",
       "      <th>Дата и время</th>\n",
       "      <th>Ощущаемая температура</th>\n",
       "      <th>Температура ночью</th>\n",
       "    </tr>\n",
       "  </thead>\n",
       "  <tbody>\n",
       "    <tr>\n",
       "      <th>0</th>\n",
       "      <td>2021-12-13 21:00:00</td>\n",
       "      <td>-1.90</td>\n",
       "      <td>0.00</td>\n",
       "    </tr>\n",
       "    <tr>\n",
       "      <th>1</th>\n",
       "      <td>2021-12-14 00:00:00</td>\n",
       "      <td>-2.18</td>\n",
       "      <td>-2.18</td>\n",
       "    </tr>\n",
       "    <tr>\n",
       "      <th>2</th>\n",
       "      <td>2021-12-14 03:00:00</td>\n",
       "      <td>-3.93</td>\n",
       "      <td>-3.93</td>\n",
       "    </tr>\n",
       "    <tr>\n",
       "      <th>3</th>\n",
       "      <td>2021-12-14 06:00:00</td>\n",
       "      <td>-6.63</td>\n",
       "      <td>0.00</td>\n",
       "    </tr>\n",
       "    <tr>\n",
       "      <th>4</th>\n",
       "      <td>2021-12-14 09:00:00</td>\n",
       "      <td>-3.74</td>\n",
       "      <td>0.00</td>\n",
       "    </tr>\n",
       "    <tr>\n",
       "      <th>5</th>\n",
       "      <td>2021-12-14 12:00:00</td>\n",
       "      <td>-5.96</td>\n",
       "      <td>0.00</td>\n",
       "    </tr>\n",
       "    <tr>\n",
       "      <th>6</th>\n",
       "      <td>2021-12-14 15:00:00</td>\n",
       "      <td>-7.88</td>\n",
       "      <td>0.00</td>\n",
       "    </tr>\n",
       "    <tr>\n",
       "      <th>7</th>\n",
       "      <td>2021-12-14 18:00:00</td>\n",
       "      <td>-11.34</td>\n",
       "      <td>0.00</td>\n",
       "    </tr>\n",
       "    <tr>\n",
       "      <th>8</th>\n",
       "      <td>2021-12-14 21:00:00</td>\n",
       "      <td>-8.77</td>\n",
       "      <td>0.00</td>\n",
       "    </tr>\n",
       "    <tr>\n",
       "      <th>9</th>\n",
       "      <td>2021-12-15 00:00:00</td>\n",
       "      <td>-12.56</td>\n",
       "      <td>-12.56</td>\n",
       "    </tr>\n",
       "    <tr>\n",
       "      <th>10</th>\n",
       "      <td>2021-12-15 03:00:00</td>\n",
       "      <td>-15.53</td>\n",
       "      <td>-12.14</td>\n",
       "    </tr>\n",
       "    <tr>\n",
       "      <th>11</th>\n",
       "      <td>2021-12-15 06:00:00</td>\n",
       "      <td>-9.20</td>\n",
       "      <td>0.00</td>\n",
       "    </tr>\n",
       "    <tr>\n",
       "      <th>12</th>\n",
       "      <td>2021-12-15 09:00:00</td>\n",
       "      <td>-8.12</td>\n",
       "      <td>0.00</td>\n",
       "    </tr>\n",
       "    <tr>\n",
       "      <th>13</th>\n",
       "      <td>2021-12-15 12:00:00</td>\n",
       "      <td>-6.95</td>\n",
       "      <td>0.00</td>\n",
       "    </tr>\n",
       "    <tr>\n",
       "      <th>14</th>\n",
       "      <td>2021-12-15 15:00:00</td>\n",
       "      <td>-10.21</td>\n",
       "      <td>0.00</td>\n",
       "    </tr>\n",
       "    <tr>\n",
       "      <th>15</th>\n",
       "      <td>2021-12-15 18:00:00</td>\n",
       "      <td>-5.75</td>\n",
       "      <td>0.00</td>\n",
       "    </tr>\n",
       "    <tr>\n",
       "      <th>16</th>\n",
       "      <td>2021-12-15 21:00:00</td>\n",
       "      <td>-4.25</td>\n",
       "      <td>0.00</td>\n",
       "    </tr>\n",
       "    <tr>\n",
       "      <th>17</th>\n",
       "      <td>2021-12-16 00:00:00</td>\n",
       "      <td>-7.93</td>\n",
       "      <td>-3.38</td>\n",
       "    </tr>\n",
       "    <tr>\n",
       "      <th>18</th>\n",
       "      <td>2021-12-16 03:00:00</td>\n",
       "      <td>-8.67</td>\n",
       "      <td>-3.19</td>\n",
       "    </tr>\n",
       "    <tr>\n",
       "      <th>19</th>\n",
       "      <td>2021-12-16 06:00:00</td>\n",
       "      <td>-5.62</td>\n",
       "      <td>0.00</td>\n",
       "    </tr>\n",
       "    <tr>\n",
       "      <th>20</th>\n",
       "      <td>2021-12-16 09:00:00</td>\n",
       "      <td>-4.69</td>\n",
       "      <td>0.00</td>\n",
       "    </tr>\n",
       "    <tr>\n",
       "      <th>21</th>\n",
       "      <td>2021-12-16 12:00:00</td>\n",
       "      <td>-3.96</td>\n",
       "      <td>0.00</td>\n",
       "    </tr>\n",
       "    <tr>\n",
       "      <th>22</th>\n",
       "      <td>2021-12-16 15:00:00</td>\n",
       "      <td>-2.95</td>\n",
       "      <td>0.00</td>\n",
       "    </tr>\n",
       "    <tr>\n",
       "      <th>23</th>\n",
       "      <td>2021-12-16 18:00:00</td>\n",
       "      <td>-2.15</td>\n",
       "      <td>0.00</td>\n",
       "    </tr>\n",
       "    <tr>\n",
       "      <th>24</th>\n",
       "      <td>2021-12-16 21:00:00</td>\n",
       "      <td>-2.37</td>\n",
       "      <td>0.00</td>\n",
       "    </tr>\n",
       "    <tr>\n",
       "      <th>25</th>\n",
       "      <td>2021-12-17 00:00:00</td>\n",
       "      <td>-0.45</td>\n",
       "      <td>-0.45</td>\n",
       "    </tr>\n",
       "    <tr>\n",
       "      <th>26</th>\n",
       "      <td>2021-12-17 03:00:00</td>\n",
       "      <td>-2.68</td>\n",
       "      <td>-0.61</td>\n",
       "    </tr>\n",
       "    <tr>\n",
       "      <th>27</th>\n",
       "      <td>2021-12-17 06:00:00</td>\n",
       "      <td>-2.80</td>\n",
       "      <td>0.00</td>\n",
       "    </tr>\n",
       "    <tr>\n",
       "      <th>28</th>\n",
       "      <td>2021-12-17 09:00:00</td>\n",
       "      <td>-2.98</td>\n",
       "      <td>0.00</td>\n",
       "    </tr>\n",
       "    <tr>\n",
       "      <th>29</th>\n",
       "      <td>2021-12-17 12:00:00</td>\n",
       "      <td>-2.72</td>\n",
       "      <td>0.00</td>\n",
       "    </tr>\n",
       "    <tr>\n",
       "      <th>30</th>\n",
       "      <td>2021-12-17 15:00:00</td>\n",
       "      <td>-4.99</td>\n",
       "      <td>0.00</td>\n",
       "    </tr>\n",
       "    <tr>\n",
       "      <th>31</th>\n",
       "      <td>2021-12-17 18:00:00</td>\n",
       "      <td>-4.55</td>\n",
       "      <td>0.00</td>\n",
       "    </tr>\n",
       "    <tr>\n",
       "      <th>32</th>\n",
       "      <td>2021-12-17 21:00:00</td>\n",
       "      <td>-4.86</td>\n",
       "      <td>0.00</td>\n",
       "    </tr>\n",
       "    <tr>\n",
       "      <th>33</th>\n",
       "      <td>2021-12-18 00:00:00</td>\n",
       "      <td>-6.81</td>\n",
       "      <td>-2.86</td>\n",
       "    </tr>\n",
       "    <tr>\n",
       "      <th>34</th>\n",
       "      <td>2021-12-18 03:00:00</td>\n",
       "      <td>-9.83</td>\n",
       "      <td>-4.68</td>\n",
       "    </tr>\n",
       "    <tr>\n",
       "      <th>35</th>\n",
       "      <td>2021-12-18 06:00:00</td>\n",
       "      <td>-11.36</td>\n",
       "      <td>0.00</td>\n",
       "    </tr>\n",
       "    <tr>\n",
       "      <th>36</th>\n",
       "      <td>2021-12-18 09:00:00</td>\n",
       "      <td>-8.85</td>\n",
       "      <td>0.00</td>\n",
       "    </tr>\n",
       "    <tr>\n",
       "      <th>37</th>\n",
       "      <td>2021-12-18 12:00:00</td>\n",
       "      <td>-8.38</td>\n",
       "      <td>0.00</td>\n",
       "    </tr>\n",
       "    <tr>\n",
       "      <th>38</th>\n",
       "      <td>2021-12-18 15:00:00</td>\n",
       "      <td>-11.07</td>\n",
       "      <td>0.00</td>\n",
       "    </tr>\n",
       "    <tr>\n",
       "      <th>39</th>\n",
       "      <td>2021-12-18 18:00:00</td>\n",
       "      <td>-14.76</td>\n",
       "      <td>0.00</td>\n",
       "    </tr>\n",
       "  </tbody>\n",
       "</table>\n",
       "</div>"
      ],
      "text/plain": [
       "           Дата и время  Ощущаемая температура  Температура ночью\n",
       "0   2021-12-13 21:00:00                  -1.90               0.00\n",
       "1   2021-12-14 00:00:00                  -2.18              -2.18\n",
       "2   2021-12-14 03:00:00                  -3.93              -3.93\n",
       "3   2021-12-14 06:00:00                  -6.63               0.00\n",
       "4   2021-12-14 09:00:00                  -3.74               0.00\n",
       "5   2021-12-14 12:00:00                  -5.96               0.00\n",
       "6   2021-12-14 15:00:00                  -7.88               0.00\n",
       "7   2021-12-14 18:00:00                 -11.34               0.00\n",
       "8   2021-12-14 21:00:00                  -8.77               0.00\n",
       "9   2021-12-15 00:00:00                 -12.56             -12.56\n",
       "10  2021-12-15 03:00:00                 -15.53             -12.14\n",
       "11  2021-12-15 06:00:00                  -9.20               0.00\n",
       "12  2021-12-15 09:00:00                  -8.12               0.00\n",
       "13  2021-12-15 12:00:00                  -6.95               0.00\n",
       "14  2021-12-15 15:00:00                 -10.21               0.00\n",
       "15  2021-12-15 18:00:00                  -5.75               0.00\n",
       "16  2021-12-15 21:00:00                  -4.25               0.00\n",
       "17  2021-12-16 00:00:00                  -7.93              -3.38\n",
       "18  2021-12-16 03:00:00                  -8.67              -3.19\n",
       "19  2021-12-16 06:00:00                  -5.62               0.00\n",
       "20  2021-12-16 09:00:00                  -4.69               0.00\n",
       "21  2021-12-16 12:00:00                  -3.96               0.00\n",
       "22  2021-12-16 15:00:00                  -2.95               0.00\n",
       "23  2021-12-16 18:00:00                  -2.15               0.00\n",
       "24  2021-12-16 21:00:00                  -2.37               0.00\n",
       "25  2021-12-17 00:00:00                  -0.45              -0.45\n",
       "26  2021-12-17 03:00:00                  -2.68              -0.61\n",
       "27  2021-12-17 06:00:00                  -2.80               0.00\n",
       "28  2021-12-17 09:00:00                  -2.98               0.00\n",
       "29  2021-12-17 12:00:00                  -2.72               0.00\n",
       "30  2021-12-17 15:00:00                  -4.99               0.00\n",
       "31  2021-12-17 18:00:00                  -4.55               0.00\n",
       "32  2021-12-17 21:00:00                  -4.86               0.00\n",
       "33  2021-12-18 00:00:00                  -6.81              -2.86\n",
       "34  2021-12-18 03:00:00                  -9.83              -4.68\n",
       "35  2021-12-18 06:00:00                 -11.36               0.00\n",
       "36  2021-12-18 09:00:00                  -8.85               0.00\n",
       "37  2021-12-18 12:00:00                  -8.38               0.00\n",
       "38  2021-12-18 15:00:00                 -11.07               0.00\n",
       "39  2021-12-18 18:00:00                 -14.76               0.00"
      ]
     },
     "execution_count": 9,
     "metadata": {},
     "output_type": "execute_result"
    }
   ],
   "source": [
    "weather = {\n",
    "    \"Дата и время\": data_time,\n",
    "    \"Ощущаемая температура\": data_feels_like,\n",
    "    \"Температура ночью\": data_night\n",
    "}\n",
    "weather_df = pd.DataFrame(weather)\n",
    "weather_df"
   ]
  },
  {
   "cell_type": "code",
   "execution_count": 10,
   "id": "00f7cf15",
   "metadata": {},
   "outputs": [
    {
     "name": "stdout",
     "output_type": "stream",
     "text": [
      "{'2021-12-13': {'feels_like': {-1.9}, 'night_temp': set()}, '2021-12-14': {'feels_like': {-3.93, -11.34, -8.77, -7.88, -6.63, -5.96, -3.74, -2.18}, 'night_temp': {-2.37, -3.93, -2.18}}, '2021-12-15': {'feels_like': {-15.53, -12.56, -10.21, -9.2, -8.12, -6.95, -5.75, -4.25}, 'night_temp': {-12.14, -12.56}}, '2021-12-16': {'feels_like': {-2.15, -2.37, -8.67, -7.93, -5.62, -4.69, -3.96, -2.95}, 'night_temp': {-3.19, -3.38}}, '2021-12-17': {'feels_like': {-0.45, -4.55, -4.86, -2.8, -2.68, -2.98, -4.99, -2.72}, 'night_temp': {-0.45, -0.61}}, '2021-12-18': {'feels_like': {-8.38, -14.76, -11.36, -11.07, -9.83, -8.85, -6.81}, 'night_temp': {-4.68, -2.86}}}\n"
     ]
    }
   ],
   "source": [
    "try:\n",
    "    res = req.get(\"http://api.openweathermap.org/data/2.5/forecast\",\n",
    "                       params={'id': city_id, 'units': 'metric', 'lang': 'ru', 'APPID': appid})\n",
    "    data, d = res.json(), {}\n",
    "    for i in data['list']:\n",
    "        if i['dt_txt'].split()[0] not in d: # если текущей даты нет в словаре\n",
    "            d[i['dt_txt'].split()[0]] = {'feels_like':set(), 'night_temp':set()}  # добавляем новую пару ключ : значение, которая целиком хранится в словаре\n",
    "        d[i['dt_txt'].split()[0]]['feels_like'].add(i['main']['feels_like']) \n",
    "        #для ключа \"feels_like\" мы в предыдущей строке создали пустой массив, теперь в него добавляем все значения\n",
    "       \n",
    "        if re.split(':| ', i['dt_txt'])[-3] in ('00', '03'): # вносим в 'night_temp' только температуру с 00:00-03:00\n",
    "            d[i['dt_txt'].split()[0]]['night_temp'].add(i['main']['temp'])\n",
    "            d[i['dt_txt'].split()[0]]['night_temp'].add(i['main']['temp_min'])\n",
    "            d[i['dt_txt'].split()[0]]['night_temp'].add(i['main']['temp_max'])\n",
    "\n",
    "        \n",
    "except Exception as e:\n",
    "    print(\"Exception (forecast):\", e)\n",
    "    pass\n",
    "\n",
    "print(d)"
   ]
  },
  {
   "cell_type": "code",
   "execution_count": 11,
   "id": "112d2aa5",
   "metadata": {},
   "outputs": [
    {
     "name": "stdout",
     "output_type": "stream",
     "text": [
      "День, с минимальной разницей 'ощущаемой' и фактической температуры ночью: 2021-12-17 \n",
      "Разница температур по Цельсию составляет: 0.16°C\n"
     ]
    }
   ],
   "source": [
    "def abs_diff(x, y):\n",
    "    return abs(x - y)\n",
    "\n",
    "def find_nearest(sorted_a, y):\n",
    "    i = bisect.bisect(sorted_a, y)\n",
    "    return min(\n",
    "        sorted_a[max(i - 1, 0) : min(i + 1, len(sorted_a))],\n",
    "        key=lambda z: abs_diff(z, y),\n",
    "    )\n",
    "\n",
    "def improvement(x, y, z):\n",
    "    return abs_diff(x, y) - abs_diff(z, y)\n",
    "\n",
    "\n",
    "def min_diff(a, b):\n",
    "    sorted_a = sorted(a)\n",
    "    nearest = [find_nearest(sorted_a, y) for y in b]\n",
    "    return sum(map(abs_diff, a, b)) - max(map(improvement, a, b, nearest))\n",
    "\n",
    "def days_min_diff(d):\n",
    "    days_min_diff = []\n",
    "    for i in d:\n",
    "        if len(d[i]['night_temp']) == 0:\n",
    "            continue\n",
    "        days_min_diff.append((min_diff(d[i]['feels_like'], d[i]['night_temp']), i))\n",
    "    return print(\"День, с минимальной разницей 'ощущаемой' и фактической температуры ночью: {} \\nРазница температур по Цельсию составляет: {}°C\".format(min(days_min_diff)[1], round(min(days_min_diff)[0], 2)))    \n",
    "        \n",
    "days_min_diff(d)"
   ]
  },
  {
   "cell_type": "code",
   "execution_count": 12,
   "id": "e45a05e8",
   "metadata": {},
   "outputs": [
    {
     "data": {
      "image/png": "[encoded data removed]",
      "text/plain": [
       "<Figure size 432x288 with 1 Axes>"
      ]
     },
     "metadata": {
      "needs_background": "light"
     },
     "output_type": "display_data"
    }
   ],
   "source": [
    "plt.step(np.arange(40), data_feels_like, where='mid', label='Ощущаемая температура')\n",
    "plt.plot(np.arange(40), data_feels_like, '-.', color='grey', alpha=0.2)\n",
    "\n",
    "plt.step(np.arange(40), data_night, where='mid', label='Температура ночью (не равная 0-ю)')\n",
    "plt.plot(np.arange(40), data_night, '-.', color='grey', alpha=0.2)\n",
    "\n",
    "\n",
    "plt.grid(axis='x', color='0.95')\n",
    "plt.legend(title='Параметры')\n",
    "plt.title('График температур')\n",
    "plt.show()"
   ]
  },
  {
   "cell_type": "markdown",
   "id": "64a79870",
   "metadata": {},
   "source": [
    "2. Найти максимальную продолжительностью светового дня (считать, как разницу между временем заката и рассвета) за ближайшие 5 дней (включая текущий), с указанием даты."
   ]
  },
  {
   "cell_type": "code",
   "execution_count": 13,
   "id": "7c0c32a5",
   "metadata": {},
   "outputs": [
    {
     "name": "stdout",
     "output_type": "stream",
     "text": [
      "Максимальная продолжительность светого дня 2021-12-18 составляет 07:04:58\n"
     ]
    }
   ],
   "source": [
    "res = req.get(\"https://api.openweathermap.org/data/2.5/onecall\", \n",
    "              params = {'lat': 55.7522, 'lon': 37.6156, 'exclude': 'hourly', 'APPID': appid})\n",
    "data = res.json()\n",
    "print(f\"Максимальная продолжительность светого дня \\\n",
    "{datetime.utcfromtimestamp(int(str(i['dt']))).strftime('%Y-%m-%d')} составляет \\\n",
    "{datetime.utcfromtimestamp(int(str(max((i['sunset'] - i['sunrise']) for i in data['daily'])))).strftime('%H:%M:%S')}\")\n"
   ]
  }
 ],
 "metadata": {
  "kernelspec": {
   "display_name": "Python 3 (ipykernel)",
   "language": "python",
   "name": "python3"
  },
  "language_info": {
   "codemirror_mode": {
    "name": "ipython",
    "version": 3
   },
   "file_extension": ".py",
   "mimetype": "text/x-python",
   "name": "python",
   "nbconvert_exporter": "python",
   "pygments_lexer": "ipython3",
   "version": "3.9.7"
  }
 },
 "nbformat": 4,
 "nbformat_minor": 5
}
