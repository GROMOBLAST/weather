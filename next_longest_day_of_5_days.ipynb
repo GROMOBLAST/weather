{
 "cells": [
  {
   "cell_type": "markdown",
   "id": "11168e25",
   "metadata": {},
   "source": [
    "### Найти максимальную продолжительностью светового дня (считать, как разницу между временем заката и рассвета) за ближайшие 5 дней (включая текущий), с указанием даты."
   ]
  },
  {
   "cell_type": "code",
   "execution_count": 48,
   "id": "44a83228",
   "metadata": {},
   "outputs": [],
   "source": [
    "import requests as req\n",
    "import pandas as pd\n",
    "import numpy as np\n",
    "import matplotlib.pyplot as plt\n",
    "from datetime import datetime"
   ]
  },
  {
   "cell_type": "code",
   "execution_count": 49,
   "id": "d699a5c8",
   "metadata": {},
   "outputs": [],
   "source": [
    "appid = '83d81f84fdfd4ca7ec7056939d3e867a'"
   ]
  },
  {
   "cell_type": "code",
   "execution_count": 66,
   "id": "396e7710",
   "metadata": {},
   "outputs": [],
   "source": [
    "res = req.get(\"https://api.openweathermap.org/data/2.5/onecall\", \n",
    "              params = {'lat': 55.7522, 'lon': 37.6156, 'exclude': 'hourly', 'APPID': appid})\n",
    "data = res.json()\n"
   ]
  },
  {
   "cell_type": "code",
   "execution_count": 80,
   "id": "3897765c",
   "metadata": {},
   "outputs": [
    {
     "name": "stdout",
     "output_type": "stream",
     "text": [
      "Максимальная продолжительность светого дня 2021-12-14 составляет 07:03:53\n"
     ]
    }
   ],
   "source": [
    "day, diff = [], []\n",
    "for i in data['daily']:\n",
    "    day.append(i['dt'])\n",
    "    diff.append(i['sunset'] - i['sunrise'])\n",
    "    \n",
    "    \n",
    "def max_light_day(day, diff):\n",
    "    index, max_value = max(enumerate(diff), key=lambda i_v: i_v[1])\n",
    "    return print('Максимальная продолжительность светого дня {} составляет {}'.\\\n",
    "                 format(datetime.utcfromtimestamp(day[index]).strftime('%Y-%m-%d'),\\\n",
    "                        datetime.utcfromtimestamp(max_value).strftime('%H:%M:%S')))\n",
    "max_light_day(day, diff)\n"
   ]
  }
 ],
 "metadata": {
  "kernelspec": {
   "display_name": "Python 3 (ipykernel)",
   "language": "python",
   "name": "python3"
  },
  "language_info": {
   "codemirror_mode": {
    "name": "ipython",
    "version": 3
   },
   "file_extension": ".py",
   "mimetype": "text/x-python",
   "name": "python",
   "nbconvert_exporter": "python",
   "pygments_lexer": "ipython3",
   "version": "3.9.7"
  }
 },
 "nbformat": 4,
 "nbformat_minor": 5
}
